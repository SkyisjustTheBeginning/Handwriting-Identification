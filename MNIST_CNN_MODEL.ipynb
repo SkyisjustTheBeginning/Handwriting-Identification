{
  "nbformat": 4,
  "nbformat_minor": 0,
  "metadata": {
    "colab": {
      "provenance": []
    },
    "kernelspec": {
      "name": "python3",
      "display_name": "Python 3"
    },
    "language_info": {
      "name": "python"
    }
  },
  "cells": [
    {
      "cell_type": "code",
      "execution_count": null,
      "metadata": {
        "id": "MCF0pJk4QXRc"
      },
      "outputs": [],
      "source": [
        "import mnist"
      ]
    },
    {
      "cell_type": "code",
      "source": [
        "train_images = mnist.train_images()\n",
        "train_labels = mnist.train_labels()\n",
        "test_images = mnist.test_images()\n",
        "test_labels = mnist.test_labels()"
      ],
      "metadata": {
        "id": "7JgLfa9oTtSB"
      },
      "execution_count": null,
      "outputs": []
    },
    {
      "cell_type": "code",
      "source": [
        "import tensorflow as tf\n",
        "from tensorflow.keras.models import Sequential\n",
        "from tensorflow.keras.layers import Dense,Dropout,Activation,Flatten , Conv2D , MaxPooling2D"
      ],
      "metadata": {
        "id": "PYdnZsgPUC8f"
      },
      "execution_count": null,
      "outputs": []
    },
    {
      "cell_type": "code",
      "source": [
        "train_images = train_images.reshape(-1,28,28,1)"
      ],
      "metadata": {
        "id": "4I0qCXlxVKAM"
      },
      "execution_count": null,
      "outputs": []
    },
    {
      "cell_type": "code",
      "source": [
        "model = Sequential()\n",
        "model.add(Conv2D(64,(3,3),input_shape = train_images.shape[1:]))\n",
        "model.add(Activation('relu'))\n",
        "model.add(MaxPooling2D(pool_size =( 2,2)))\n",
        "model.add(Conv2D(64,(3,3),input_shape = train_images.shape[1:]))\n",
        "model.add(Activation('relu'))\n",
        "model.add(MaxPooling2D(pool_size =( 2,2)))\n",
        "model.add(Flatten())\n",
        "model.add(Dense(64))\n",
        "model.add(Dense(1))\n",
        "model.add(Activation('softmax'))"
      ],
      "metadata": {
        "id": "QDi11j3oT-B3"
      },
      "execution_count": null,
      "outputs": []
    },
    {
      "cell_type": "code",
      "source": [
        "model.compile(loss = \"binary_crossentropy\",optimizer=\"adam\",metrics=[\"accuracy\"])"
      ],
      "metadata": {
        "id": "f-S2BDMkU6Bu"
      },
      "execution_count": null,
      "outputs": []
    },
    {
      "cell_type": "code",
      "source": [
        "model.fit(train_images,train_labels,epochs=100)\n",
        "model.evaluate(test_images,test_labels)"
      ],
      "metadata": {
        "colab": {
          "base_uri": "https://localhost:8080/"
        },
        "id": "Wn6leu-dU_fd",
        "outputId": "2b708aeb-30cb-4efa-a556-5f76a7c5499f"
      },
      "execution_count": null,
      "outputs": [
        {
          "output_type": "stream",
          "name": "stdout",
          "text": [
            "Epoch 1/100\n",
            "1875/1875 [==============================] - 87s 47ms/step - loss: -84735988596736.0000 - accuracy: 0.1124\n",
            "Epoch 2/100\n",
            "1875/1875 [==============================] - 85s 45ms/step - loss: -608895701614592.0000 - accuracy: 0.1124\n",
            "Epoch 3/100\n",
            "1875/1875 [==============================] - 87s 46ms/step - loss: -2016415070552064.0000 - accuracy: 0.1124\n",
            "Epoch 4/100\n",
            "1875/1875 [==============================] - 85s 45ms/step - loss: -4785321564700672.0000 - accuracy: 0.1124\n",
            "Epoch 5/100\n",
            "1875/1875 [==============================] - 87s 46ms/step - loss: -9422223018295296.0000 - accuracy: 0.1124\n",
            "Epoch 6/100\n",
            "1875/1875 [==============================] - 86s 46ms/step - loss: -16546022205423616.0000 - accuracy: 0.1124\n",
            "Epoch 7/100\n",
            "1875/1875 [==============================] - 84s 45ms/step - loss: -26793732569300992.0000 - accuracy: 0.1124\n",
            "Epoch 8/100\n",
            "1875/1875 [==============================] - 86s 46ms/step - loss: -40858822750765056.0000 - accuracy: 0.1124\n",
            "Epoch 9/100\n",
            "1875/1875 [==============================] - 86s 46ms/step - loss: -59559093177679872.0000 - accuracy: 0.1124\n",
            "Epoch 10/100\n",
            "1875/1875 [==============================] - 85s 45ms/step - loss: -83713903351037952.0000 - accuracy: 0.1124\n",
            "Epoch 11/100\n",
            "1875/1875 [==============================] - 86s 46ms/step - loss: -114255819519819776.0000 - accuracy: 0.1124\n",
            "Epoch 12/100\n",
            "1875/1875 [==============================] - 84s 45ms/step - loss: -152065361519312896.0000 - accuracy: 0.1124\n",
            "Epoch 13/100\n",
            "1875/1875 [==============================] - 86s 46ms/step - loss: -198279536041787392.0000 - accuracy: 0.1124\n",
            "Epoch 14/100\n",
            "1875/1875 [==============================] - 86s 46ms/step - loss: -253870740862926848.0000 - accuracy: 0.1124\n",
            "Epoch 15/100\n",
            "1875/1875 [==============================] - 84s 45ms/step - loss: -320077799169720320.0000 - accuracy: 0.1124\n",
            "Epoch 16/100\n",
            "1875/1875 [==============================] - 86s 46ms/step - loss: -397987062810148864.0000 - accuracy: 0.1124\n",
            "Epoch 17/100\n",
            "1292/1875 [===================>..........] - ETA: 26s - loss: -475824445877911552.0000 - accuracy: 0.1120"
          ]
        }
      ]
    }
  ]
}